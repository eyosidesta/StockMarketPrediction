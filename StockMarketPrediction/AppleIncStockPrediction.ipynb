{
 "cells": [
  {
   "cell_type": "code",
   "execution_count": 1,
   "id": "a181804e-09a5-43c8-92b6-a5bf737d3218",
   "metadata": {},
   "outputs": [
    {
     "name": "stderr",
     "output_type": "stream",
     "text": [
      "/var/folders/gf/w0jtkzbx3k5cxhhbjjkvys5c0000gn/T/ipykernel_2434/2162656668.py:1: DeprecationWarning: \n",
      "Pyarrow will become a required dependency of pandas in the next major release of pandas (pandas 3.0),\n",
      "(to allow more performant data types, such as the Arrow string type, and better interoperability with other libraries)\n",
      "but was not found to be installed on your system.\n",
      "If this would cause problems for you,\n",
      "please provide us feedback at https://github.com/pandas-dev/pandas/issues/54466\n",
      "        \n",
      "  import pandas as pd\n"
     ]
    }
   ],
   "source": [
    "import pandas as pd\n",
    "import numpy as np"
   ]
  },
  {
   "cell_type": "code",
   "execution_count": 2,
   "id": "568d5917-d2f3-41ee-9a87-35400430fac6",
   "metadata": {},
   "outputs": [],
   "source": [
    "from sklearn.model_selection import train_test_split\n",
    "from sklearn.preprocessing import MinMaxScaler\n",
    "from sklearn.metrics import mean_squared_error"
   ]
  },
  {
   "cell_type": "code",
   "execution_count": 3,
   "id": "59ede911-53fb-4624-8a5f-7ccf9c300e7a",
   "metadata": {},
   "outputs": [
    {
     "name": "stderr",
     "output_type": "stream",
     "text": [
      "2024-02-12 11:45:41.706063: I tensorflow/core/platform/cpu_feature_guard.cc:182] This TensorFlow binary is optimized to use available CPU instructions in performance-critical operations.\n",
      "To enable the following instructions: AVX2 FMA, in other operations, rebuild TensorFlow with the appropriate compiler flags.\n"
     ]
    }
   ],
   "source": [
    "from tensorflow.keras.models import Sequential\n",
    "from tensorflow.keras.layers import Dense\n",
    "import matplotlib.pyplot as plt"
   ]
  },
  {
   "cell_type": "code",
   "execution_count": 4,
   "id": "d4ab0404-7ce7-4797-8e5d-81662762dcc1",
   "metadata": {},
   "outputs": [],
   "source": [
    "class AppleStockPrediction:\n",
    "    def __init__(self, file):\n",
    "        self.file = file\n",
    "        self.dataFrame = None\n",
    "\n",
    "    def importData(self):\n",
    "        self.dataFrame = pd.read_csv(self.file, parse_dates=['Date'], index_col='Date')\n",
    "    \n",
    "    def manipulateData(self):\n",
    "        headers = ['Open', 'High', 'Low', 'Close', 'Adj Close', 'Volume']\n",
    "        data = self.dataFrame[headers]\n",
    "        return data\n",
    "    \n",
    "    # use data from February 2019, to Decemeber 30, 2022 so that we can train the model with this dataset\n",
    "    # and test our model with the test dataset\n",
    "    def defineTrainData(self):\n",
    "        data = self.manipulateData()\n",
    "        define_x_train_data = data.loc['2019-02-12':'2022-12-30']\n",
    "        return define_x_train_data\n",
    "    \n",
    "    # use test data from January 3, 2023 to February 9, 2024 so that we can test our model weather our model is \n",
    "    # performing well or not\n",
    "    def defineTestData(self):\n",
    "        data = self.manipulateData()\n",
    "        define_x_test_data = data.loc['2023-01-03':'2024-02-09']\n",
    "        return define_x_test_data\n",
    "    \n",
    "    def normalizeTrainData(self):\n",
    "        normalize = MinMaxScaler()\n",
    "        train_data = self.defineTrainData()\n",
    "        normalizeTrainData = normalize.fit_transform(train_data)\n",
    "        return normalizeTrainData\n",
    "    \n",
    "    def normalizeTestData(self):\n",
    "        normalizeScaler = MinMaxScaler()\n",
    "        test_data = self.defineTestData()\n",
    "        normalizeTestData = normalizeScaler.fit_transform(test_data)\n",
    "        return normalizeTestData, normalizeScaler\n",
    "    \n",
    "    def inputOutputTrainData(self):\n",
    "        normalizedTrainData = self.normalizeTrainData()\n",
    "        X_train = normalizedTrainData[:, :-1]\n",
    "        y_train = normalizedTrainData[:, -1]\n",
    "        return X_train, y_train\n",
    "    \n",
    "    def inputOutputTestData(self):\n",
    "        normalizedTestData, normalizeScaler = self.normalizeTestData()\n",
    "        X_test = normalizedTestData[:, :-1]\n",
    "        y_test = normalizedTestData[:, -1]\n",
    "        return X_test, y_test, normalizeScaler\n",
    "    \n",
    "    def BuildAndTrainModel(self):\n",
    "        X_train, y_train = self.inputOutputTrainData()\n",
    "        X_test, y_test, normalizeScaler = self.inputOutputTestData()\n",
    "        X_test_data = self.defineTestData()\n",
    "        model = Sequential()\n",
    "        model.add(Dense(64, input_dim=X_train.shape[1], activation='relu'))\n",
    "        model.add(Dense(1, activation='linear'))\n",
    "\n",
    "        model.compile(optimizer='adam', loss='mean_squared_error')\n",
    "        model.fit(X_train, y_train, epochs=50, batch_size=32, validation_data=(X_test, y_test))\n",
    "        \n",
    "        predictions_scaled = model.predict(X_test)\n",
    "\n",
    "        meanSquaredError = mean_squared_error(y_test, predictions_scaled)\n",
    "        print(f\"Mean Squared Error is {meanSquaredError}\")\n",
    "        predictions_original_scale = normalizeScaler.inverse_transform(np.concatenate([X_test, predictions_scaled], axis=1))[:, -1]\n",
    "\n",
    "        # Visualize predictions\n",
    "        plt.figure(\"Apple Inc Stock Market Prediction\")\n",
    "        plt.plot(X_test_data.index, predictions_original_scale, label='Predicted Volume')\n",
    "        plt.plot(X_test_data.index, X_test_data['Volume'], label='Actual Volume')\n",
    "        plt.legend()\n",
    "        plt.show()"
   ]
  },
  {
   "cell_type": "code",
   "execution_count": null,
   "id": "7582d290-15c3-45c9-bafd-ec1e7f54168b",
   "metadata": {},
   "outputs": [],
   "source": []
  }
 ],
 "metadata": {
  "kernelspec": {
   "display_name": "aiproject",
   "language": "python",
   "name": "aiproject"
  },
  "language_info": {
   "codemirror_mode": {
    "name": "ipython",
    "version": 3
   },
   "file_extension": ".py",
   "mimetype": "text/x-python",
   "name": "python",
   "nbconvert_exporter": "python",
   "pygments_lexer": "ipython3",
   "version": "3.11.5"
  }
 },
 "nbformat": 4,
 "nbformat_minor": 5
}
